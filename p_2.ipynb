{
 "cells": [
  {
   "cell_type": "code",
   "execution_count": null,
   "metadata": {},
   "outputs": [],
   "source": [
    "import pandas as pd\n",
    "import numpy as np\n",
    "import nltk\n",
    "import math\n",
    "import time\n",
    "from nltk.tokenize import word_tokenize\n",
    "from nltk.corpus import stopwords\n",
    "from nltk.stem import PorterStemmer\n",
    "from tqdm import tqdm\n",
    "\n",
    "import torch\n",
    "import torch.nn as nn\n",
    "import torch.nn.functional as F\n",
    "\n",
    "from ranger import Ranger\n",
    "from torch.utils.data import Dataset, DataLoader\n",
    "from torch.utils.data.sampler import SubsetRandomSampler"
   ]
  },
  {
   "cell_type": "code",
   "execution_count": null,
   "metadata": {},
   "outputs": [],
   "source": [
    "nltk.download('punkt')"
   ]
  },
  {
   "cell_type": "code",
   "execution_count": null,
   "metadata": {},
   "outputs": [],
   "source": [
    "nltk.download('stopwords')"
   ]
  },
  {
   "cell_type": "code",
   "execution_count": null,
   "metadata": {},
   "outputs": [],
   "source": [
    "symbols = \"!\\\"#$%&()*+-./:;<=>?@[\\]^_`{|}~\\n\"\n",
    "\n",
    "def prep_stent(sentence):    \n",
    "    tokens = word_tokenize(sentence)\n",
    "    \n",
    "    stops = set(stopwords.words('english'))\n",
    "    clean_tokens = [x for x in tokens if ((x not in stops) and (x not in symbols))]\n",
    "    \n",
    "    stemmer = PorterStemmer()\n",
    "    stemmed_tokens = [stemmer.stem(x) for x in clean_tokens]\n",
    "    return stemmed_tokens"
   ]
  },
  {
   "cell_type": "code",
   "execution_count": null,
   "metadata": {},
   "outputs": [],
   "source": [
    "local_corpus = {}\n",
    "\n",
    "def tf_and_learn_df(tokens):\n",
    "    uniques, count = np.unique(tokens, return_counts=True)\n",
    "    u_dict = dict(zip(uniques, count))\n",
    "    for x in uniques:\n",
    "        if x not in local_corpus:\n",
    "            local_corpus.update({x: 1})\n",
    "        else:\n",
    "            local_corpus[x] += 1\n",
    "    tf_s = [(u_dict[x] / len(tokens)) for x in tokens]\n",
    "    return tf_s"
   ]
  },
  {
   "cell_type": "code",
   "execution_count": null,
   "metadata": {},
   "outputs": [],
   "source": [
    "def apply_tf_idf(row):\n",
    "    idf = [math.log(data_len / (local_corpus[x] + 1)) for x in row['prep_text']]\n",
    "    tf_idf = [(x * y) for x,y in zip(row['tf'], idf)]\n",
    "    return tf_idf\n",
    "    "
   ]
  },
  {
   "cell_type": "code",
   "execution_count": null,
   "metadata": {},
   "outputs": [],
   "source": [
    "def get_len(tokens):\n",
    "    return len(tokens)"
   ]
  },
  {
   "cell_type": "code",
   "execution_count": null,
   "metadata": {},
   "outputs": [],
   "source": []
  },
  {
   "cell_type": "code",
   "execution_count": null,
   "metadata": {},
   "outputs": [],
   "source": [
    "onot = pd.read_csv(\"onion-or-not.csv\")\n",
    "print(onot)"
   ]
  },
  {
   "cell_type": "code",
   "execution_count": null,
   "metadata": {},
   "outputs": [],
   "source": []
  },
  {
   "cell_type": "code",
   "execution_count": null,
   "metadata": {},
   "outputs": [],
   "source": [
    "onot['prep_text'] = onot['text'].apply(prep_stent)\n",
    "print(onot['prep_text'])"
   ]
  },
  {
   "cell_type": "code",
   "execution_count": null,
   "metadata": {},
   "outputs": [],
   "source": [
    "onot['tf'] = onot['prep_text'].apply(tf_and_learn_df)\n",
    "print(onot['tf'])"
   ]
  },
  {
   "cell_type": "code",
   "execution_count": null,
   "metadata": {},
   "outputs": [],
   "source": [
    "data_len = len(onot)\n",
    "\n",
    "onot['tf_idf'] = onot.apply(apply_tf_idf, axis=1)\n",
    "print(onot['tf_idf'])"
   ]
  },
  {
   "cell_type": "code",
   "execution_count": null,
   "metadata": {},
   "outputs": [],
   "source": [
    "onot['len'] = onot['tf_idf'].apply(get_len)\n",
    "print(onot['len'])"
   ]
  },
  {
   "cell_type": "code",
   "execution_count": null,
   "metadata": {},
   "outputs": [],
   "source": [
    "temp_len = onot['len'].sort_values()\n",
    "temp_ind = int(np.floor(len(temp_len) * 0.9))\n",
    "max_len = temp_len.iloc[temp_ind]\n",
    "print(f\"Top 90% sent.length: {max_len}\")"
   ]
  },
  {
   "cell_type": "code",
   "execution_count": 47,
   "metadata": {},
   "outputs": [],
   "source": [
    "class onion_words(Dataset):\n",
    "    def __init__(self, dataframe, max_len):\n",
    "        self.data = dataframe\n",
    "        self.total = len(dataframe)\n",
    "        self.max_len = max_len\n",
    "    def __len__(self):\n",
    "        return self.total\n",
    "    def __getitem__(self, ind):\n",
    "        label = torch.FloatTensor(1).zero_()\n",
    "        if self.data.iloc[ind]['label'] == 1:\n",
    "            label += 1\n",
    "        x = torch.FloatTensor(self.data.iloc[ind]['tf_idf'])\n",
    "        if int(x.size()[0]) > self.max_len:\n",
    "            x = torch.narrow(x, 0, 0, self.max_len)\n",
    "        else:\n",
    "            s_pad = int(self.max_len - x.size())\n",
    "            x = F.pad(x, (0, s_pad))\n",
    "        return x.view(1, -1), label\n",
    "        "
   ]
  },
  {
   "cell_type": "code",
   "execution_count": null,
   "metadata": {},
   "outputs": [],
   "source": []
  },
  {
   "cell_type": "code",
   "execution_count": null,
   "metadata": {},
   "outputs": [],
   "source": []
  },
  {
   "cell_type": "code",
   "execution_count": null,
   "metadata": {},
   "outputs": [],
   "source": []
  },
  {
   "cell_type": "code",
   "execution_count": 48,
   "metadata": {},
   "outputs": [],
   "source": [
    "def weights_init(m):\n",
    "    if isinstance(m, nn.Conv1d) or isinstance(m, nn.Linear):\n",
    "        torch.nn.init.kaiming_uniform_(m.weight)\n",
    "        if m.bias is not None:\n",
    "            torch.nn.init.zeros_(m.bias)\n",
    "\n",
    "\n",
    "class Mish(nn.Module):\n",
    "    # a self regulating activation function\n",
    "    # credits:\n",
    "    # Diganta Misra - https://arxiv.org/ftp/arxiv/papers/1908/1908.08681.pdf\n",
    "    # Less Wright - https://github.com/lessw2020/mish\n",
    "    def __init__(self):\n",
    "        super().__init__()\n",
    "\n",
    "    def forward(self, x):\n",
    "        return x * (torch.tanh(F.softplus(x)))\n",
    "\n",
    "class onion_net(nn.Module):\n",
    "    def __init__(self, max_len, num_channels=24, depth=4, kernel_s=3, num_linear=64):\n",
    "        super().__init__()\n",
    "        self.max_len = max_len\n",
    "        self.num_ch = num_channels\n",
    "        \n",
    "        layers = []\n",
    "        norms = []\n",
    "        self.initial_conv = nn.Conv1d(1, self.num_ch, 1)\n",
    "        \n",
    "        for i in range(depth):\n",
    "            layer = nn.Conv1d(self.num_ch, self.num_ch,kernel_s)\n",
    "            layers.append(layer)\n",
    "            \n",
    "            norm = nn.BatchNorm1d(self.num_ch)\n",
    "            norms.append(norm)\n",
    "            \n",
    "        self.layers = nn.ModuleList(layers)\n",
    "        self.norms = nn.ModuleList(norms)\n",
    "        \n",
    "        self._to_linear = 0\n",
    "        x_temp = torch.randn(self.max_len * self.num_ch).view(-1, self.num_ch, self.max_len)\n",
    "        x_temp = self.conv_forward(x_temp)\n",
    "        self._to_linear = x_temp[0].shape[0] * x_temp[0].shape[1]\n",
    "        \n",
    "        self.activ_0 = Mish()\n",
    "        self.fc_1 = nn.Linear(self._to_linear, num_linear)\n",
    "        self.activ_1 = Mish()\n",
    "        self.drop = nn.Dropout(0.2)\n",
    "        self.fc_out = nn.Linear(num_linear, 1)\n",
    "        \n",
    "        \n",
    "    def conv_forward(self, x):\n",
    "        for layer, norm in zip(self.layers, self.norms):\n",
    "            x = layer(x)\n",
    "            x = norm(x)\n",
    "        return x\n",
    "    \n",
    "    def forward(self,x):\n",
    "        x = self.initial_conv(x)\n",
    "        x = self.conv_forward(x)\n",
    "        x = x.view(-1, self._to_linear)\n",
    "        \n",
    "        x = self.activ_0(x)\n",
    "        x = self.activ_1(self.fc_1(x))\n",
    "        x = self.drop(x)\n",
    "        x = self.fc_out(x)\n",
    "        \n",
    "        return F.sigmoid(x)"
   ]
  },
  {
   "cell_type": "code",
   "execution_count": 49,
   "metadata": {},
   "outputs": [],
   "source": [
    "ran_seed = (int(round(time.time()))) % 5000\n",
    "np.random.seed(ran_seed)\n",
    "\n",
    "index = onot.index.values\n",
    "np.random.shuffle(index)\n",
    "\n",
    "cut = int(np.floor(len(onot) * 0.25))\n",
    "train_index, test_index = index[cut:], index[:cut]\n",
    "train = onot.iloc[train_index]\n",
    "test = onot.iloc[test_index]"
   ]
  },
  {
   "cell_type": "code",
   "execution_count": 50,
   "metadata": {},
   "outputs": [],
   "source": [
    "learning_rate = 1e-4\n",
    "batch_size = 64\n",
    "scale = 1\n",
    "lr = learning_rate * scale\n",
    "bat_s = batch_size * scale\n",
    "epochs = 10"
   ]
  },
  {
   "cell_type": "code",
   "execution_count": 51,
   "metadata": {},
   "outputs": [],
   "source": [
    "train_set = onion_words(onot[['tf_idf', 'label']], max_len)\n",
    "test_set = onion_words(onot[['tf_idf', 'label']], max_len)"
   ]
  },
  {
   "cell_type": "code",
   "execution_count": 52,
   "metadata": {},
   "outputs": [],
   "source": [
    "train_loader = DataLoader(train_set, batch_size=bat_s)\n",
    "test_loader = DataLoader(test_set, batch_size=bat_s)"
   ]
  },
  {
   "cell_type": "code",
   "execution_count": 53,
   "metadata": {},
   "outputs": [
    {
     "data": {
      "text/plain": [
       "onion_net(\n",
       "  (initial_conv): Conv1d(1, 32, kernel_size=(1,), stride=(1,))\n",
       "  (layers): ModuleList(\n",
       "    (0): Conv1d(32, 32, kernel_size=(3,), stride=(1,))\n",
       "    (1): Conv1d(32, 32, kernel_size=(3,), stride=(1,))\n",
       "    (2): Conv1d(32, 32, kernel_size=(3,), stride=(1,))\n",
       "    (3): Conv1d(32, 32, kernel_size=(3,), stride=(1,))\n",
       "    (4): Conv1d(32, 32, kernel_size=(3,), stride=(1,))\n",
       "  )\n",
       "  (norms): ModuleList(\n",
       "    (0): BatchNorm1d(32, eps=1e-05, momentum=0.1, affine=True, track_running_stats=True)\n",
       "    (1): BatchNorm1d(32, eps=1e-05, momentum=0.1, affine=True, track_running_stats=True)\n",
       "    (2): BatchNorm1d(32, eps=1e-05, momentum=0.1, affine=True, track_running_stats=True)\n",
       "    (3): BatchNorm1d(32, eps=1e-05, momentum=0.1, affine=True, track_running_stats=True)\n",
       "    (4): BatchNorm1d(32, eps=1e-05, momentum=0.1, affine=True, track_running_stats=True)\n",
       "  )\n",
       "  (activ_0): Mish()\n",
       "  (fc_1): Linear(in_features=256, out_features=64, bias=True)\n",
       "  (activ_1): Mish()\n",
       "  (drop): Dropout(p=0.2, inplace=False)\n",
       "  (fc_out): Linear(in_features=64, out_features=1, bias=True)\n",
       ")"
      ]
     },
     "execution_count": 53,
     "metadata": {},
     "output_type": "execute_result"
    }
   ],
   "source": [
    "channels = 32\n",
    "depth = 5\n",
    "kernel = 3\n",
    "\n",
    "network = onion_net(max_len, num_channels=channels, depth=depth, kernel_s=kernel)\n",
    "network.apply(weights_init)"
   ]
  },
  {
   "cell_type": "code",
   "execution_count": 54,
   "metadata": {},
   "outputs": [
    {
     "name": "stdout",
     "output_type": "stream",
     "text": [
      "Ranger optimizer loaded. \n",
      "Gradient Centralization usage = True\n",
      "GC applied to both conv and fc layers\n"
     ]
    }
   ],
   "source": [
    "loss_f = nn.BCELoss()\n",
    "optim = Ranger(network.parameters(), lr=lr, betas=(0.95, 0.999))\n",
    "target_dev = torch.device(\"cuda:0\" if torch.cuda.is_available() else \"cpu\")"
   ]
  },
  {
   "cell_type": "code",
   "execution_count": 55,
   "metadata": {},
   "outputs": [
    {
     "name": "stderr",
     "output_type": "stream",
     "text": [
      "C:\\Users\\Main\\Miniconda3\\envs\\ceid\\lib\\site-packages\\torch\\nn\\functional.py:1569: UserWarning: nn.functional.sigmoid is deprecated. Use torch.sigmoid instead.\n",
      "  warnings.warn(\"nn.functional.sigmoid is deprecated. Use torch.sigmoid instead.\")\n",
      "..\\torch\\csrc\\utils\\python_arg_parser.cpp:756: UserWarning: This overload of addcmul_ is deprecated:\n",
      "\taddcmul_(Number value, Tensor tensor1, Tensor tensor2)\n",
      "Consider using one of the following signatures instead:\n",
      "\taddcmul_(Tensor tensor1, Tensor tensor2, *, Number value)\n"
     ]
    },
    {
     "name": "stdout",
     "output_type": "stream",
     "text": [
      "Epoch: 0 - done\n",
      "Epoch: 1 - done\n",
      "Epoch: 2 - done\n",
      "Epoch: 3 - done\n",
      "Epoch: 4 - done\n",
      "Epoch: 5 - done\n",
      "Epoch: 6 - done\n",
      "Epoch: 7 - done\n",
      "Epoch: 8 - done\n",
      "Epoch: 9 - done\n"
     ]
    }
   ],
   "source": [
    "# training loop\n",
    "network.to(target_dev)\n",
    "for i in range(epochs):\n",
    "    network.train()\n",
    "    for data in train_loader:\n",
    "        sample, label = data\n",
    "        sample, label = sample.to(target_dev), label.to(target_dev)\n",
    "        \n",
    "        optim.zero_grad()\n",
    "        output = network(sample)\n",
    "        loss = loss_f(output, label)\n",
    "        loss.backward()\n",
    "        optim.step()\n",
    "    print(f\"Epoch: {i} - done\")"
   ]
  },
  {
   "cell_type": "code",
   "execution_count": 56,
   "metadata": {},
   "outputs": [
    {
     "name": "stdout",
     "output_type": "stream",
     "text": [
      "Pass finished\n"
     ]
    }
   ],
   "source": [
    "results = pd.DataFrame(columns=['pred', 'truth'])\n",
    "network.eval()\n",
    "network.to(target_dev)\n",
    "for data in test_loader:\n",
    "    sample, label = data\n",
    "    sample, label = sample.to(target_dev), label.to(target_dev)\n",
    "    \n",
    "    output = network(sample)\n",
    "    matches = [[float(i), float(j)] for i,j, in zip(output, label)]\n",
    "    \n",
    "    temp_res = pd.DataFrame(matches, columns=list(results.columns.values))\n",
    "    results = results.append(temp_res, ignore_index=True)\n",
    "    \n",
    "print(\"Pass finished\")"
   ]
  },
  {
   "cell_type": "code",
   "execution_count": 57,
   "metadata": {},
   "outputs": [
    {
     "name": "stdout",
     "output_type": "stream",
     "text": [
      "Accuracy: 75.27%\n",
      "Precision: 0.734\n",
      "Recall: 0.535\n",
      "F1: 0.6185\n"
     ]
    }
   ],
   "source": [
    "acc = len(results[(((results['pred'] >= 0.5) & (results['truth'] == 1)) | ((results['pred'] < 0.5) & (results['truth'] == 0)))]) / len(results)\n",
    "precision = len(results[((results['pred'] >= 0.5) & (results['truth'] ==1))]) / len(results[results['pred'] >= 0.5])\n",
    "recall = len(results[((results['pred'] >= 0.5) & (results['truth'] ==1))]) / len(results[results['truth'] == 1])\n",
    "f_one = ((precision * recall) / (precision + recall)) * 2\n",
    "\n",
    "print(f\"Accuracy: {round(acc * 100, 2)}%\")\n",
    "print(f\"Precision: {round(precision, 3)}\")\n",
    "print(f\"Recall: {round(recall, 3)}\")\n",
    "print(f\"F1: {round(f_one, 4)}\")"
   ]
  },
  {
   "cell_type": "code",
   "execution_count": null,
   "metadata": {},
   "outputs": [],
   "source": []
  }
 ],
 "metadata": {
  "kernelspec": {
   "display_name": "Python 3",
   "language": "python",
   "name": "python3"
  },
  "language_info": {
   "codemirror_mode": {
    "name": "ipython",
    "version": 3
   },
   "file_extension": ".py",
   "mimetype": "text/x-python",
   "name": "python",
   "nbconvert_exporter": "python",
   "pygments_lexer": "ipython3",
   "version": "3.8.3"
  }
 },
 "nbformat": 4,
 "nbformat_minor": 4
}
